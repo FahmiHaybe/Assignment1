{
 "cells": [
  {
   "cell_type": "code",
   "execution_count": 3,
   "id": "e04ff9ae",
   "metadata": {
    "ExecuteTime": {
     "end_time": "2025-09-02T12:01:30.367278Z",
     "start_time": "2025-09-02T12:01:30.362035Z"
    }
   },
   "outputs": [
    {
     "name": "stdout",
     "output_type": "stream",
     "text": [
      "[(50, 50), (58, 93), (1, 19), (92, 30), (73, 89), (59, 14), (28, 8), (26, 13), (31, 24), (86, 60), (11, 34)]\n"
     ]
    }
   ],
   "source": [
    "import random\n",
    "import math\n",
    "\n",
    "NUM_CUSTOMERS = 10\n",
    "NUM_VEHICLES = 4\n",
    "DEPOT = (50, 50)\n",
    "\n",
    "customers = [(58, 93), (1, 19), (92, 30), (73, 89), (59, 14), (28, 8), (26, 13), (31, 24), (86, 60), (11, 34)]\n",
    "\n",
    "def init_populcation(pop_size):\n",
    "  base = list(range(1, NUM_CUSTOMERS + 1))\n",
    "  pop = []\n",
    "  for _ in range(pop_size):\n",
    "    p = base[:]\n",
    "    random.shuffle(p)\n",
    "    pop.append(p)\n",
    "  return pop\n",
    "\n",
    "def create_individual():\n",
    "    return random.sample(range(len(customers)), len(customers))\n",
    "\n",
    "locations = [DEPOT] + customers\n",
    "print(locations)"
   ]
  },
  {
   "cell_type": "code",
   "execution_count": 4,
   "id": "79fe90264350a9ed",
   "metadata": {
    "ExecuteTime": {
     "end_time": "2025-09-02T12:08:00.549724Z",
     "start_time": "2025-09-02T12:08:00.516726Z"
    }
   },
   "outputs": [
    {
     "name": "stdout",
     "output_type": "stream",
     "text": [
      "[7, 6, 3, 0, 1, 9, 8, 2, 4, 5]\n",
      "560.6685320109084\n"
     ]
    }
   ],
   "source": [
    "def fitness(individual):\n",
    "    total_distance = 0\n",
    "    prev = DEPOT\n",
    "\n",
    "    for idx in individual:\n",
    "        curr = locations[idx]\n",
    "        distance = math.hypot(curr[0] - prev[0], curr[1] - prev[1])\n",
    "        total_distance += distance\n",
    "        prev = curr\n",
    "    total_distance += math.hypot(prev[0] - DEPOT[0], prev[1] - DEPOT[1])\n",
    "    return total_distance\n",
    "\n",
    "indiv = create_individual()\n",
    "print(indiv)\n",
    "print(fitness(indiv))"
   ]
  }
 ],
 "metadata": {
  "kernelspec": {
   "display_name": "ai",
   "language": "python",
   "name": "python3"
  },
  "language_info": {
   "codemirror_mode": {
    "name": "ipython",
    "version": 3
   },
   "file_extension": ".py",
   "mimetype": "text/x-python",
   "name": "python",
   "nbconvert_exporter": "python",
   "pygments_lexer": "ipython3",
   "version": "3.13.5"
  }
 },
 "nbformat": 4,
 "nbformat_minor": 5
}
