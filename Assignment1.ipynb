{
 "cells": [
  {
   "cell_type": "code",
   "execution_count": 1,
   "id": "e04ff9ae",
   "metadata": {
    "ExecuteTime": {
     "end_time": "2025-09-02T12:01:30.367278Z",
     "start_time": "2025-09-02T12:01:30.362035Z"
    }
   },
   "outputs": [
    {
     "name": "stdout",
     "output_type": "stream",
     "text": [
      "[(50, 50), (58, 93), (1, 19), (92, 30), (73, 89), (59, 14), (28, 8), (26, 13), (31, 24), (86, 60), (11, 34)]\n"
     ]
    }
   ],
   "source": [
    "import random\n",
    "import math\n",
    "\n",
    "NUM_CUSTOMERS = 10\n",
    "NUM_VEHICLES = 4\n",
    "DEPOT = (50, 50)\n",
    "\n",
    "customers = [(58, 93), (1, 19), (92, 30), (73, 89), (59, 14), (28, 8), (26, 13), (31, 24), (86, 60), (11, 34)]\n",
    "\n",
    "def init_populcation(pop_size):\n",
    "  base = list(range(1, NUM_CUSTOMERS + 1))\n",
    "  pop = []\n",
    "  for _ in range(pop_size):\n",
    "    p = base[:]\n",
    "    random.shuffle(p)\n",
    "    pop.append(p)\n",
    "  return pop\n",
    "\n",
    "def create_individual():\n",
    "    return random.sample(range(len(customers)), len(customers))\n",
    "\n",
    "locations = [DEPOT] + customers\n",
    "print(locations)"
   ]
  },
  {
   "cell_type": "code",
   "execution_count": 2,
   "id": "79fe90264350a9ed",
   "metadata": {
    "ExecuteTime": {
     "end_time": "2025-09-02T12:08:00.549724Z",
     "start_time": "2025-09-02T12:08:00.516726Z"
    }
   },
   "outputs": [
    {
     "name": "stdout",
     "output_type": "stream",
     "text": [
      "[1, 3, 4, 7, 6, 8, 5, 2, 0, 9]\n",
      "508.9898208865045\n"
     ]
    }
   ],
   "source": [
    "def fitness(individual):\n",
    "    total_distance = 0\n",
    "    prev = DEPOT\n",
    "\n",
    "    for idx in individual:\n",
    "        curr = locations[idx]\n",
    "        distance = math.hypot(curr[0] - prev[0], curr[1] - prev[1])\n",
    "        total_distance += distance\n",
    "        prev = curr\n",
    "    total_distance += math.hypot(prev[0] - DEPOT[0], prev[1] - DEPOT[1])\n",
    "    return total_distance\n",
    "\n",
    "indiv = create_individual()\n",
    "print(indiv)\n",
    "print(fitness(indiv))"
   ]
  },
  {
   "cell_type": "code",
   "execution_count": 3,
   "id": "7890241e",
   "metadata": {},
   "outputs": [
    {
     "name": "stdout",
     "output_type": "stream",
     "text": [
      "[1, 3, 4, 7, 6, 8, 5, 2, 0, 9]\n",
      "[1, 2, 4, 5, 6, 7, 0, 9, 3, 8]\n",
      "[3, 8, 4, 7, 6, 1, 2, 5, 0, 9]\n",
      "(2, 5)\n"
     ]
    }
   ],
   "source": [
    "def ordered_crossover(parent1, parent2):\n",
    "  start, end = sorted(random.sample(range(len(parent1)), 2))\n",
    "  child = [-1]*len(parent1)\n",
    "  child[start:end] = parent1[start:end]\n",
    "  pointer = end\n",
    "  for customer in parent2:\n",
    "    if customer not in child:\n",
    "      child[pointer] = customer\n",
    "      pointer = (pointer + 1) % len(child)\n",
    "\n",
    "  return child, (start, end)\n",
    "indiv2 = create_individual()\n",
    "print(indiv)\n",
    "print(indiv2)\n",
    "child, points = ordered_crossover(indiv, indiv2)\n",
    "print(child)\n",
    "print(points)"
   ]
  },
  {
   "cell_type": "code",
   "execution_count": 4,
   "id": "592856ca",
   "metadata": {},
   "outputs": [
    {
     "name": "stdout",
     "output_type": "stream",
     "text": [
      "[1, 3, 4, 7, 6, 8, 5, 2, 0, 9]\n"
     ]
    }
   ],
   "source": [
    "def swap_mutation(individual, mutation_rate=0.1):\n",
    "  if random.random() < mutation_rate:\n",
    "    i, j = random.sample(range(len(individual)), 2)\n",
    "    individual[i], individual[j] = individual[j], individual[i]\n",
    "  return individual\n",
    "\n",
    "swap_mutation(indiv)\n",
    "print(indiv)"
   ]
  },
  {
   "cell_type": "code",
   "execution_count": 5,
   "id": "01a2d29d",
   "metadata": {},
   "outputs": [
    {
     "name": "stdout",
     "output_type": "stream",
     "text": [
      "Tournament: [[9, 6, 1, 7, 3, 0, 4, 5, 8, 2], [8, 0, 6, 1, 3, 5, 2, 9, 4, 7]]\n",
      "[8, 0, 6, 1, 3, 5, 2, 9, 4, 7]\n"
     ]
    }
   ],
   "source": [
    "def tournament_selection(pop, tournamen_size):\n",
    "  tournament = random.sample(pop, tournamen_size)\n",
    "  print(f\"Tournament: {tournament}\")\n",
    "  return min(tournament, key=fitness)\n",
    "\n",
    "list_indiv = [create_individual() for _ in range(11)]\n",
    "print(tournament_selection(list_indiv, 2))"
   ]
  }
 ],
 "metadata": {
  "kernelspec": {
   "display_name": "Python 3",
   "language": "python",
   "name": "python3"
  },
  "language_info": {
   "codemirror_mode": {
    "name": "ipython",
    "version": 3
   },
   "file_extension": ".py",
   "mimetype": "text/x-python",
   "name": "python",
   "nbconvert_exporter": "python",
   "pygments_lexer": "ipython3",
   "version": "3.13.7"
  }
 },
 "nbformat": 4,
 "nbformat_minor": 5
}
